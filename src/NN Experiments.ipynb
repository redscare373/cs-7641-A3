{
 "cells": [
  {
   "cell_type": "code",
   "execution_count": 1,
   "metadata": {},
   "outputs": [],
   "source": [
    "import timeit\n",
    "import os\n",
    "import numpy as np\n",
    "import pandas as pd\n",
    "from sklearn.cluster import KMeans\n",
    "from sklearn.mixture import GaussianMixture as GMM\n",
    "from sklearn.neural_network import MLPClassifier\n",
    "from sklearn.preprocessing import StandardScaler\n",
    "from sklearn.metrics import classification_report\n",
    "\n",
    "from sklearn.decomposition import PCA\n",
    "from sklearn.decomposition import FastICA\n",
    "from sklearn.random_projection import SparseRandomProjection\n",
    "from sklearn.ensemble import RandomForestClassifier\n",
    "\n",
    "\n",
    "\n",
    "from helpers import get_abspath\n",
    "import warnings\n",
    "warnings.filterwarnings('ignore')\n",
    "def get_one_hot(targets, nb_classes):\n",
    "    res = np.eye(nb_classes)[np.array(targets).reshape(-1)]\n",
    "    return res.reshape(list(targets.shape)+[nb_classes])\n"
   ]
  },
  {
   "cell_type": "code",
   "execution_count": 2,
   "metadata": {},
   "outputs": [],
   "source": [
    "train_df = pd.read_csv('../data/optdigits_train.csv', header=None)\n",
    "digits_y = train_df.iloc[:, -1:].as_matrix().flatten()\n",
    "digits_X = train_df.iloc[:, :-1].as_matrix()\n",
    "\n",
    "train_df = pd.read_csv('../data/abalone_train.csv', header=None)\n",
    "abalone_y = train_df.iloc[:, -1:].as_matrix().flatten()\n",
    "abalone_X = train_df.iloc[:, :-1].as_matrix()"
   ]
  },
  {
   "cell_type": "code",
   "execution_count": 3,
   "metadata": {},
   "outputs": [],
   "source": [
    "km = KMeans(random_state=0)  # K-Means\n",
    "gmm = GMM(random_state=0)  # Gaussian Mixture Model (EM)\n",
    "km.set_params(n_clusters=3)\n",
    "gmm.set_params(n_components=11)\n",
    "km.fit(abalone_X)\n",
    "gmm.fit(abalone_X)\n",
    "cols = [\"Length\", \"Diameter\", \"Height\", \"Whole weight\", \"Shucked weight\", \"Viscera weight\", \"Shell weight\", \"Male\", \"Female\", \"Infant\"]\n",
    "\n",
    "df_gmm = pd.DataFrame(columns=cols, data=abalone_X)\n",
    "df_km = pd.DataFrame(columns=cols, data=abalone_X)\n",
    "df_gmm['cluster'] = gmm.predict(abalone_X)\n",
    "df_km['cluster'] = km.predict(abalone_X)\n"
   ]
  },
  {
   "cell_type": "code",
   "execution_count": 4,
   "metadata": {},
   "outputs": [
    {
     "data": {
      "text/html": [
       "<div>\n",
       "<style scoped>\n",
       "    .dataframe tbody tr th:only-of-type {\n",
       "        vertical-align: middle;\n",
       "    }\n",
       "\n",
       "    .dataframe tbody tr th {\n",
       "        vertical-align: top;\n",
       "    }\n",
       "\n",
       "    .dataframe thead th {\n",
       "        text-align: right;\n",
       "    }\n",
       "</style>\n",
       "<table border=\"1\" class=\"dataframe\">\n",
       "  <thead>\n",
       "    <tr style=\"text-align: right;\">\n",
       "      <th>cluster</th>\n",
       "      <th>0</th>\n",
       "      <th>1</th>\n",
       "      <th>2</th>\n",
       "      <th>3</th>\n",
       "      <th>4</th>\n",
       "      <th>5</th>\n",
       "      <th>6</th>\n",
       "      <th>7</th>\n",
       "      <th>8</th>\n",
       "      <th>9</th>\n",
       "      <th>10</th>\n",
       "    </tr>\n",
       "  </thead>\n",
       "  <tbody>\n",
       "    <tr>\n",
       "      <th>Male</th>\n",
       "      <td>259.0</td>\n",
       "      <td>0.0</td>\n",
       "      <td>0.0</td>\n",
       "      <td>631.0</td>\n",
       "      <td>0.0</td>\n",
       "      <td>0.0</td>\n",
       "      <td>0.0</td>\n",
       "      <td>40.0</td>\n",
       "      <td>0.0</td>\n",
       "      <td>0.0</td>\n",
       "      <td>0.0</td>\n",
       "    </tr>\n",
       "    <tr>\n",
       "      <th>Female</th>\n",
       "      <td>0.0</td>\n",
       "      <td>279.0</td>\n",
       "      <td>0.0</td>\n",
       "      <td>0.0</td>\n",
       "      <td>193.0</td>\n",
       "      <td>0.0</td>\n",
       "      <td>0.0</td>\n",
       "      <td>0.0</td>\n",
       "      <td>0.0</td>\n",
       "      <td>382.0</td>\n",
       "      <td>74.0</td>\n",
       "    </tr>\n",
       "    <tr>\n",
       "      <th>Infant</th>\n",
       "      <td>0.0</td>\n",
       "      <td>0.0</td>\n",
       "      <td>441.0</td>\n",
       "      <td>0.0</td>\n",
       "      <td>0.0</td>\n",
       "      <td>109.0</td>\n",
       "      <td>126.0</td>\n",
       "      <td>0.0</td>\n",
       "      <td>389.0</td>\n",
       "      <td>0.0</td>\n",
       "      <td>0.0</td>\n",
       "    </tr>\n",
       "  </tbody>\n",
       "</table>\n",
       "</div>"
      ],
      "text/plain": [
       "cluster     0      1      2      3      4      5      6     7      8      9   \\\n",
       "Male     259.0    0.0    0.0  631.0    0.0    0.0    0.0  40.0    0.0    0.0   \n",
       "Female     0.0  279.0    0.0    0.0  193.0    0.0    0.0   0.0    0.0  382.0   \n",
       "Infant     0.0    0.0  441.0    0.0    0.0  109.0  126.0   0.0  389.0    0.0   \n",
       "\n",
       "cluster    10  \n",
       "Male      0.0  \n",
       "Female   74.0  \n",
       "Infant    0.0  "
      ]
     },
     "execution_count": 4,
     "metadata": {},
     "output_type": "execute_result"
    }
   ],
   "source": [
    "df = df_gmm.groupby('cluster')['Male','Female','Infant'].agg(['sum'])\n",
    "df.columns= [\"Male\", \"Female\", \"Infant\"]\n",
    "df.T"
   ]
  },
  {
   "cell_type": "code",
   "execution_count": 5,
   "metadata": {},
   "outputs": [
    {
     "data": {
      "text/html": [
       "<div>\n",
       "<style scoped>\n",
       "    .dataframe tbody tr th:only-of-type {\n",
       "        vertical-align: middle;\n",
       "    }\n",
       "\n",
       "    .dataframe tbody tr th {\n",
       "        vertical-align: top;\n",
       "    }\n",
       "\n",
       "    .dataframe thead th {\n",
       "        text-align: right;\n",
       "    }\n",
       "</style>\n",
       "<table border=\"1\" class=\"dataframe\">\n",
       "  <thead>\n",
       "    <tr style=\"text-align: right;\">\n",
       "      <th>cluster</th>\n",
       "      <th>0</th>\n",
       "      <th>1</th>\n",
       "      <th>2</th>\n",
       "    </tr>\n",
       "  </thead>\n",
       "  <tbody>\n",
       "    <tr>\n",
       "      <th>Male</th>\n",
       "      <td>930.0</td>\n",
       "      <td>0.0</td>\n",
       "      <td>0.0</td>\n",
       "    </tr>\n",
       "    <tr>\n",
       "      <th>Female</th>\n",
       "      <td>1.0</td>\n",
       "      <td>927.0</td>\n",
       "      <td>0.0</td>\n",
       "    </tr>\n",
       "    <tr>\n",
       "      <th>Infant</th>\n",
       "      <td>0.0</td>\n",
       "      <td>0.0</td>\n",
       "      <td>1065.0</td>\n",
       "    </tr>\n",
       "  </tbody>\n",
       "</table>\n",
       "</div>"
      ],
      "text/plain": [
       "cluster      0      1       2\n",
       "Male     930.0    0.0     0.0\n",
       "Female     1.0  927.0     0.0\n",
       "Infant     0.0    0.0  1065.0"
      ]
     },
     "execution_count": 5,
     "metadata": {},
     "output_type": "execute_result"
    }
   ],
   "source": [
    "df = df_km.groupby('cluster')['Male','Female','Infant'].agg(['sum'])\n",
    "df.columns= [\"Male\", \"Female\", \"Infant\"]\n",
    "df.T"
   ]
  },
  {
   "cell_type": "code",
   "execution_count": 6,
   "metadata": {},
   "outputs": [],
   "source": [
    "test_df = pd.read_csv('../data/optdigits_test.csv', header=None)\n",
    "digits_y_test = test_df.iloc[:, -1:].as_matrix().flatten()\n",
    "digits_X_test = test_df.iloc[:, :-1].as_matrix()\n",
    "\n",
    "test_df = pd.read_csv('../data/abalone_test.csv', header=None)\n",
    "abalone_y_test = test_df.iloc[:, -1:].as_matrix().flatten()\n",
    "abalone_X_test = test_df.iloc[:, :-1].as_matrix()"
   ]
  },
  {
   "cell_type": "code",
   "execution_count": 7,
   "metadata": {},
   "outputs": [],
   "source": [
    "digits_scalar = StandardScaler()\n",
    "\n",
    "digits_scalar.fit(digits_X)\n",
    "digits_X = digits_scalar.transform(digits_X)\n",
    "digits_X_test = digits_scalar.transform(digits_X_test)"
   ]
  },
  {
   "cell_type": "code",
   "execution_count": 8,
   "metadata": {},
   "outputs": [],
   "source": [
    "abalone_scalar = StandardScaler()\n",
    "\n",
    "abalone_scalar.fit(abalone_X)\n",
    "abalone_X = abalone_scalar.transform(abalone_X)\n",
    "abalone_X_test = abalone_scalar.transform(abalone_X_test)"
   ]
  },
  {
   "cell_type": "code",
   "execution_count": null,
   "metadata": {},
   "outputs": [],
   "source": []
  },
  {
   "cell_type": "code",
   "execution_count": null,
   "metadata": {},
   "outputs": [],
   "source": []
  },
  {
   "cell_type": "code",
   "execution_count": 9,
   "metadata": {},
   "outputs": [
    {
     "name": "stdout",
     "output_type": "stream",
     "text": [
      "             precision    recall  f1-score   support\n",
      "\n",
      "          0       1.00      1.00      1.00       178\n",
      "          1       0.99      0.95      0.97       191\n",
      "          2       0.98      0.98      0.98       176\n",
      "          3       0.95      0.99      0.97       175\n",
      "          4       0.98      0.98      0.98       182\n",
      "          5       0.99      0.96      0.97       188\n",
      "          6       0.99      0.99      0.99       180\n",
      "          7       0.93      0.98      0.96       170\n",
      "          8       0.92      0.96      0.94       166\n",
      "          9       0.97      0.92      0.94       191\n",
      "\n",
      "avg / total       0.97      0.97      0.97      1797\n",
      "\n",
      "Done: 27.17330858600326 seconds\n"
     ]
    }
   ],
   "source": [
    "## BASELINE\n",
    "ann = MLPClassifier(\n",
    "    activation='relu', max_iter=5000,\n",
    "    solver='adam', learning_rate='adaptive', \n",
    "    hidden_layer_sizes=(500, 500), alpha= 0.01\n",
    ")\n",
    "\n",
    "start_time = timeit.default_timer()\n",
    "ann.fit(digits_X,digits_y)\n",
    "predict = ann.predict(digits_X_test)\n",
    "print(classification_report(predict, digits_y_test))\n",
    "end_time = timeit.default_timer()\n",
    "elapsed = end_time - start_time\n",
    "print(\"Done: {} seconds\".format(elapsed))"
   ]
  },
  {
   "cell_type": "code",
   "execution_count": 10,
   "metadata": {},
   "outputs": [],
   "source": [
    "km = KMeans(random_state=0)  # K-Means\n",
    "gmm = GMM(random_state=0)  # Gaussian Mixture Model (EM)\n",
    "km.set_params(n_clusters=10)\n",
    "gmm.set_params(n_components=8)\n",
    "km.fit(digits_X)\n",
    "gmm.fit(digits_X)\n",
    "digits_X_km = np.concatenate(\n",
    "    (digits_X, get_one_hot(km.predict(digits_X), 10)),\n",
    "    axis=1\n",
    ")\n",
    "digits_X_gmm = np.concatenate(\n",
    "    (digits_X, get_one_hot(gmm.predict(digits_X), 8)),\n",
    "    axis=1\n",
    ")\n",
    "digits_X_test_km = np.concatenate(\n",
    "    (digits_X_test, get_one_hot(km.predict(digits_X_test), 10)),\n",
    "    axis=1\n",
    ")\n",
    "digits_X_test_gmm = np.concatenate(\n",
    "    (digits_X_test, get_one_hot(gmm.predict(digits_X_test), 8)),\n",
    "    axis=1\n",
    ")"
   ]
  },
  {
   "cell_type": "code",
   "execution_count": null,
   "metadata": {},
   "outputs": [],
   "source": []
  },
  {
   "cell_type": "code",
   "execution_count": 11,
   "metadata": {},
   "outputs": [
    {
     "name": "stdout",
     "output_type": "stream",
     "text": [
      "             precision    recall  f1-score   support\n",
      "\n",
      "          0       0.99      1.00      0.99       176\n",
      "          1       0.97      0.97      0.97       182\n",
      "          2       0.98      0.97      0.98       179\n",
      "          3       0.96      0.99      0.98       178\n",
      "          4       0.99      0.96      0.98       186\n",
      "          5       0.99      0.94      0.97       193\n",
      "          6       0.98      0.99      0.99       180\n",
      "          7       0.93      0.99      0.96       168\n",
      "          8       0.94      0.95      0.94       172\n",
      "          9       0.95      0.93      0.94       183\n",
      "\n",
      "avg / total       0.97      0.97      0.97      1797\n",
      "\n",
      "Done: 22.981471509905532 seconds\n"
     ]
    }
   ],
   "source": [
    "##KMEANS\n",
    "ann = MLPClassifier(\n",
    "    activation='relu', max_iter=5000,\n",
    "    solver='adam', learning_rate='adaptive', \n",
    "    hidden_layer_sizes=(500, 500), alpha= 0.01\n",
    ")\n",
    "start_time = timeit.default_timer()\n",
    "ann.fit(digits_X_gmm,digits_y)\n",
    "predict = ann.predict(digits_X_test_gmm)\n",
    "print(classification_report(predict, digits_y_test))\n",
    "end_time = timeit.default_timer()\n",
    "elapsed = end_time - start_time\n",
    "print(\"Done: {} seconds\".format(elapsed))"
   ]
  },
  {
   "cell_type": "code",
   "execution_count": 12,
   "metadata": {},
   "outputs": [
    {
     "name": "stdout",
     "output_type": "stream",
     "text": [
      "             precision    recall  f1-score   support\n",
      "\n",
      "          0       1.00      0.99      1.00       179\n",
      "          1       0.99      0.96      0.98       187\n",
      "          2       0.99      0.98      0.99       178\n",
      "          3       0.97      0.99      0.98       178\n",
      "          4       0.97      0.99      0.98       178\n",
      "          5       0.99      0.95      0.97       191\n",
      "          6       0.99      1.00      0.99       179\n",
      "          7       0.92      1.00      0.96       165\n",
      "          8       0.94      0.94      0.94       174\n",
      "          9       0.97      0.93      0.95       188\n",
      "\n",
      "avg / total       0.97      0.97      0.97      1797\n",
      "\n",
      "Done: 23.504933387041092 seconds\n"
     ]
    }
   ],
   "source": [
    "##GMM\n",
    "ann = MLPClassifier(\n",
    "    activation='relu', max_iter=5000,\n",
    "    solver='adam', learning_rate='adaptive', \n",
    "    hidden_layer_sizes=(500, 500), alpha= 0.01\n",
    ")\n",
    "start_time = timeit.default_timer()\n",
    "ann.fit(digits_X_km,digits_y)\n",
    "predict = ann.predict(digits_X_test_km)\n",
    "print(classification_report(predict, digits_y_test))\n",
    "end_time = timeit.default_timer()\n",
    "elapsed = end_time - start_time\n",
    "print(\"Done: {} seconds\".format(elapsed))"
   ]
  },
  {
   "cell_type": "markdown",
   "metadata": {},
   "source": [
    "# PCA "
   ]
  },
  {
   "cell_type": "code",
   "execution_count": 13,
   "metadata": {},
   "outputs": [],
   "source": [
    "pca = PCA(random_state=0, svd_solver='full', n_components=32)\n",
    "pca.fit(digits_X)\n",
    "digits_X_PCA = pca.transform(digits_X)\n",
    "digits_X_test_PCA = pca.transform(digits_X_test)"
   ]
  },
  {
   "cell_type": "code",
   "execution_count": 14,
   "metadata": {},
   "outputs": [
    {
     "name": "stdout",
     "output_type": "stream",
     "text": [
      "             precision    recall  f1-score   support\n",
      "\n",
      "          0       1.00      0.99      1.00       179\n",
      "          1       0.99      0.92      0.95       196\n",
      "          2       0.97      0.98      0.97       175\n",
      "          3       0.95      0.99      0.97       175\n",
      "          4       0.97      0.94      0.96       187\n",
      "          5       0.98      0.95      0.96       187\n",
      "          6       0.98      0.98      0.98       181\n",
      "          7       0.91      0.99      0.95       164\n",
      "          8       0.91      0.96      0.94       166\n",
      "          9       0.93      0.90      0.92       187\n",
      "\n",
      "avg / total       0.96      0.96      0.96      1797\n",
      "\n",
      "Done: 26.210280172992498 seconds\n"
     ]
    }
   ],
   "source": [
    "ann = MLPClassifier(\n",
    "    activation='relu', max_iter=5000,\n",
    "    solver='adam', learning_rate='adaptive', \n",
    "    hidden_layer_sizes=(500, 500), alpha= 0.01\n",
    ")\n",
    "start_time = timeit.default_timer()\n",
    "ann.fit(digits_X_PCA,digits_y)\n",
    "predict = ann.predict(digits_X_test_PCA)\n",
    "print(classification_report(predict, digits_y_test))\n",
    "end_time = timeit.default_timer()\n",
    "elapsed = end_time - start_time\n",
    "print(\"Done: {} seconds\".format(elapsed))"
   ]
  },
  {
   "cell_type": "code",
   "execution_count": 15,
   "metadata": {},
   "outputs": [],
   "source": [
    "km = KMeans(random_state=0)  # K-Means\n",
    "gmm = GMM(random_state=0)  # Gaussian Mixture Model (EM)\n",
    "km.set_params(n_clusters=20)\n",
    "gmm.set_params(n_components=12)\n",
    "km.fit(digits_X_PCA)\n",
    "gmm.fit(digits_X_PCA)\n",
    "digits_X_PCA_km = np.concatenate(\n",
    "    (digits_X_PCA, get_one_hot(km.predict(digits_X_PCA), 20)),\n",
    "    axis=1\n",
    ")\n",
    "digits_X_PCA_gmm = np.concatenate(\n",
    "    (digits_X_PCA, get_one_hot(gmm.predict(digits_X_PCA), 12)),\n",
    "    axis=1\n",
    ")\n",
    "digits_X_test_PCA_km = np.concatenate(\n",
    "    (digits_X_test_PCA, get_one_hot(km.predict(digits_X_test_PCA), 20)),\n",
    "    axis=1\n",
    ")\n",
    "digits_X_test_PCA_gmm = np.concatenate(\n",
    "    (digits_X_test_PCA, get_one_hot(gmm.predict(digits_X_test_PCA), 12)),\n",
    "    axis=1\n",
    ")"
   ]
  },
  {
   "cell_type": "code",
   "execution_count": 16,
   "metadata": {},
   "outputs": [
    {
     "name": "stdout",
     "output_type": "stream",
     "text": [
      "             precision    recall  f1-score   support\n",
      "\n",
      "          0       1.00      0.99      1.00       179\n",
      "          1       0.98      0.94      0.96       191\n",
      "          2       0.96      0.98      0.97       173\n",
      "          3       0.96      0.98      0.97       178\n",
      "          4       0.97      0.97      0.97       181\n",
      "          5       0.97      0.96      0.97       184\n",
      "          6       0.99      0.97      0.98       184\n",
      "          7       0.92      0.99      0.96       166\n",
      "          8       0.93      0.96      0.94       168\n",
      "          9       0.96      0.90      0.93       193\n",
      "\n",
      "avg / total       0.96      0.96      0.96      1797\n",
      "\n",
      "Done: 23.11047149822116 seconds\n"
     ]
    }
   ],
   "source": [
    "## PCA + KMEANS\n",
    "ann = MLPClassifier(\n",
    "    activation='relu', max_iter=5000,\n",
    "    solver='adam', learning_rate='adaptive', \n",
    "    hidden_layer_sizes=(500, 500), alpha= 0.01\n",
    ")\n",
    "start_time = timeit.default_timer()\n",
    "ann.fit(digits_X_PCA_km,digits_y)\n",
    "predict = ann.predict(digits_X_test_PCA_km)\n",
    "print(classification_report(predict, digits_y_test))\n",
    "end_time = timeit.default_timer()\n",
    "elapsed = end_time - start_time\n",
    "print(\"Done: {} seconds\".format(elapsed))"
   ]
  },
  {
   "cell_type": "code",
   "execution_count": 17,
   "metadata": {},
   "outputs": [
    {
     "name": "stdout",
     "output_type": "stream",
     "text": [
      "             precision    recall  f1-score   support\n",
      "\n",
      "          0       0.99      1.00      1.00       177\n",
      "          1       0.99      0.94      0.97       191\n",
      "          2       0.96      0.98      0.97       173\n",
      "          3       0.95      0.98      0.96       178\n",
      "          4       0.98      0.96      0.97       185\n",
      "          5       0.98      0.96      0.97       186\n",
      "          6       0.99      0.98      0.99       182\n",
      "          7       0.93      0.99      0.96       168\n",
      "          8       0.95      0.97      0.96       170\n",
      "          9       0.96      0.92      0.94       187\n",
      "\n",
      "avg / total       0.97      0.97      0.97      1797\n",
      "\n",
      "Done: 30.819543289020658 seconds\n"
     ]
    }
   ],
   "source": [
    "## PCA + GMM\n",
    "ann = MLPClassifier(\n",
    "    activation='relu', max_iter=5000,\n",
    "    solver='adam', learning_rate='adaptive', \n",
    "    hidden_layer_sizes=(500, 500), alpha= 0.01\n",
    ")\n",
    "start_time = timeit.default_timer()\n",
    "\n",
    "ann.fit(digits_X_PCA_gmm,digits_y)\n",
    "\n",
    "predict = ann.predict(digits_X_test_PCA_gmm)\n",
    "\n",
    "print(classification_report(predict, digits_y_test))\n",
    "end_time = timeit.default_timer()\n",
    "elapsed = end_time - start_time\n",
    "print(\"Done: {} seconds\".format(elapsed))"
   ]
  },
  {
   "cell_type": "markdown",
   "metadata": {},
   "source": [
    "## ICA"
   ]
  },
  {
   "cell_type": "code",
   "execution_count": 18,
   "metadata": {},
   "outputs": [],
   "source": [
    "ica = FastICA(random_state=0, max_iter=5000, tol=1e-04, n_components=22)\n",
    "ica.fit(digits_X)\n",
    "digits_X_ICA = ica.transform(digits_X)\n",
    "digits_X_test_ICA = ica.transform(digits_X_test)"
   ]
  },
  {
   "cell_type": "code",
   "execution_count": 19,
   "metadata": {},
   "outputs": [
    {
     "name": "stdout",
     "output_type": "stream",
     "text": [
      "             precision    recall  f1-score   support\n",
      "\n",
      "          0       0.97      1.00      0.99       173\n",
      "          1       0.94      0.86      0.90       199\n",
      "          2       0.94      0.95      0.95       174\n",
      "          3       0.89      0.99      0.94       163\n",
      "          4       0.96      0.93      0.94       188\n",
      "          5       0.98      0.87      0.92       206\n",
      "          6       0.98      0.96      0.97       185\n",
      "          7       0.93      0.97      0.95       172\n",
      "          8       0.87      0.88      0.88       171\n",
      "          9       0.84      0.92      0.88       166\n",
      "\n",
      "avg / total       0.93      0.93      0.93      1797\n",
      "\n",
      "Done: 8.090884200995788 seconds\n"
     ]
    }
   ],
   "source": [
    "ann = MLPClassifier(\n",
    "    activation='relu', max_iter=5000,\n",
    "    solver='adam', learning_rate='adaptive', \n",
    "    hidden_layer_sizes=(500, 500), alpha= 0.01\n",
    ")\n",
    "start_time = timeit.default_timer()\n",
    "ann.fit(digits_X_ICA,digits_y)\n",
    "predict = ann.predict(digits_X_test_ICA)\n",
    "print(classification_report(predict, digits_y_test))\n",
    "end_time = timeit.default_timer()\n",
    "elapsed = end_time - start_time\n",
    "print(\"Done: {} seconds\".format(elapsed))"
   ]
  },
  {
   "cell_type": "code",
   "execution_count": 20,
   "metadata": {},
   "outputs": [],
   "source": [
    "km = KMeans(random_state=0)  # K-Means\n",
    "gmm = GMM(random_state=0)  # Gaussian Mixture Model (EM)\n",
    "km.set_params(n_clusters=20)\n",
    "gmm.set_params(n_components=12)\n",
    "km.fit(digits_X_ICA)\n",
    "gmm.fit(digits_X_ICA)\n",
    "\n",
    "digits_X_ICA_km = np.concatenate(\n",
    "    (digits_X_ICA, get_one_hot(km.predict(digits_X_ICA), 20)),\n",
    "    axis=1\n",
    ")\n",
    "digits_X_ICA_gmm = np.concatenate(\n",
    "    (digits_X_ICA, get_one_hot(gmm.predict(digits_X_ICA), 12)),\n",
    "    axis=1\n",
    ")\n",
    "\n",
    "digits_X_test_ICA_km = np.concatenate(\n",
    "    (digits_X_test_ICA, get_one_hot(km.predict(digits_X_test_ICA), 20)),\n",
    "    axis=1\n",
    ")\n",
    "digits_X_test_ICA_gmm = np.concatenate(\n",
    "    (digits_X_test_ICA, get_one_hot(gmm.predict(digits_X_test_ICA), 12)),\n",
    "    axis=1\n",
    ")"
   ]
  },
  {
   "cell_type": "code",
   "execution_count": 21,
   "metadata": {},
   "outputs": [
    {
     "name": "stdout",
     "output_type": "stream",
     "text": [
      "             precision    recall  f1-score   support\n",
      "\n",
      "          0       0.98      0.99      0.99       175\n",
      "          1       0.97      0.83      0.90       212\n",
      "          2       0.89      0.96      0.92       165\n",
      "          3       0.87      0.96      0.91       167\n",
      "          4       0.94      0.93      0.94       183\n",
      "          5       0.98      0.87      0.92       206\n",
      "          6       0.96      0.96      0.96       180\n",
      "          7       0.92      0.98      0.95       167\n",
      "          8       0.87      0.86      0.87       176\n",
      "          9       0.84      0.92      0.88       166\n",
      "\n",
      "avg / total       0.93      0.92      0.92      1797\n",
      "\n",
      "Done: 16.59419621201232 seconds\n"
     ]
    }
   ],
   "source": [
    "## ICA + KMEANS\n",
    "ann = MLPClassifier(\n",
    "    activation='relu', max_iter=5000,\n",
    "    solver='adam', learning_rate='adaptive', \n",
    "    hidden_layer_sizes=(500, 500), alpha= 0.01\n",
    ")\n",
    "start_time = timeit.default_timer()\n",
    "ann.fit(digits_X_ICA_km, digits_y)\n",
    "predict = ann.predict(digits_X_test_ICA_km)\n",
    "print(classification_report(predict, digits_y_test))\n",
    "end_time = timeit.default_timer()\n",
    "elapsed = end_time - start_time\n",
    "print(\"Done: {} seconds\".format(elapsed))"
   ]
  },
  {
   "cell_type": "code",
   "execution_count": 22,
   "metadata": {},
   "outputs": [
    {
     "name": "stdout",
     "output_type": "stream",
     "text": [
      "             precision    recall  f1-score   support\n",
      "\n",
      "          0       0.99      0.99      0.99       178\n",
      "          1       0.96      0.88      0.92       198\n",
      "          2       0.97      0.94      0.95       182\n",
      "          3       0.88      0.98      0.93       165\n",
      "          4       0.98      0.95      0.97       187\n",
      "          5       0.98      0.91      0.94       196\n",
      "          6       0.97      0.95      0.96       185\n",
      "          7       0.93      0.97      0.95       171\n",
      "          8       0.87      0.89      0.88       171\n",
      "          9       0.86      0.95      0.90       164\n",
      "\n",
      "avg / total       0.94      0.94      0.94      1797\n",
      "\n",
      "Done: 10.956296659074724 seconds\n"
     ]
    }
   ],
   "source": [
    "## ICA + GMM\n",
    "ann = MLPClassifier(\n",
    "    activation='relu', max_iter=5000,\n",
    "    solver='adam', learning_rate='adaptive', \n",
    "    hidden_layer_sizes=(500, 500), alpha= 0.01\n",
    ")\n",
    "start_time = timeit.default_timer()\n",
    "ann.fit(digits_X_ICA_gmm, digits_y)\n",
    "predict = ann.predict(digits_X_test_ICA_gmm)\n",
    "print(classification_report(predict, digits_y_test))\n",
    "end_time = timeit.default_timer()\n",
    "elapsed = end_time - start_time\n",
    "print(\"Done: {} seconds\".format(elapsed))"
   ]
  },
  {
   "cell_type": "markdown",
   "metadata": {},
   "source": [
    "## RP"
   ]
  },
  {
   "cell_type": "code",
   "execution_count": 23,
   "metadata": {},
   "outputs": [],
   "source": [
    "rp = SparseRandomProjection(random_state=0, n_components=29)\n",
    "\n",
    "rp.fit(digits_X)\n",
    "\n",
    "digits_X_RP = rp.transform(digits_X)\n",
    "digits_X_test_RP = rp.transform(digits_X_test)"
   ]
  },
  {
   "cell_type": "code",
   "execution_count": 24,
   "metadata": {},
   "outputs": [
    {
     "name": "stdout",
     "output_type": "stream",
     "text": [
      "             precision    recall  f1-score   support\n",
      "\n",
      "          0       0.99      0.99      0.99       178\n",
      "          1       0.98      0.92      0.95       195\n",
      "          2       0.97      0.98      0.97       175\n",
      "          3       0.92      0.96      0.94       175\n",
      "          4       0.94      0.95      0.94       179\n",
      "          5       0.97      0.94      0.95       187\n",
      "          6       0.98      0.96      0.97       186\n",
      "          7       0.94      0.99      0.97       169\n",
      "          8       0.90      0.90      0.90       173\n",
      "          9       0.94      0.94      0.94       180\n",
      "\n",
      "avg / total       0.95      0.95      0.95      1797\n",
      "\n",
      "Done: 23.506456583039835 seconds\n"
     ]
    }
   ],
   "source": [
    "ann = MLPClassifier(\n",
    "    activation='relu', max_iter=5000,\n",
    "    solver='adam', learning_rate='adaptive', \n",
    "    hidden_layer_sizes=(500, 500), alpha= 0.01\n",
    ")\n",
    "start_time = timeit.default_timer()\n",
    "ann.fit(digits_X_RP,digits_y)\n",
    "predict = ann.predict(digits_X_test_RP)\n",
    "print(classification_report(predict, digits_y_test))\n",
    "end_time = timeit.default_timer()\n",
    "elapsed = end_time - start_time\n",
    "print(\"Done: {} seconds\".format(elapsed))"
   ]
  },
  {
   "cell_type": "code",
   "execution_count": 25,
   "metadata": {},
   "outputs": [],
   "source": [
    "km = KMeans(random_state=0)  # K-Means\n",
    "gmm = GMM(random_state=0)  # Gaussian Mixture Model (EM)\n",
    "km.set_params(n_clusters=10)\n",
    "gmm.set_params(n_components=9)\n",
    "km.fit(digits_X_RP)\n",
    "gmm.fit(digits_X_RP)\n",
    "\n",
    "digits_X_RP_km = np.concatenate(\n",
    "    (digits_X_RP, get_one_hot(km.predict(digits_X_RP), 10)),\n",
    "    axis=1\n",
    ")\n",
    "digits_X_RP_gmm = np.concatenate(\n",
    "    (digits_X_RP, get_one_hot(gmm.predict(digits_X_RP), 9)),\n",
    "    axis=1\n",
    ")\n",
    "\n",
    "digits_X_test_RP_km = np.concatenate(\n",
    "    (digits_X_test_RP, get_one_hot(km.predict(digits_X_test_RP), 10)),\n",
    "    axis=1\n",
    ")\n",
    "digits_X_test_RP_gmm = np.concatenate(\n",
    "    (digits_X_test_RP, get_one_hot(gmm.predict(digits_X_test_RP), 9)),\n",
    "    axis=1\n",
    ")"
   ]
  },
  {
   "cell_type": "code",
   "execution_count": 26,
   "metadata": {},
   "outputs": [
    {
     "name": "stdout",
     "output_type": "stream",
     "text": [
      "             precision    recall  f1-score   support\n",
      "\n",
      "          0       0.99      0.99      0.99       177\n",
      "          1       0.97      0.89      0.93       199\n",
      "          2       0.97      0.98      0.97       176\n",
      "          3       0.92      0.95      0.94       176\n",
      "          4       0.94      0.94      0.94       180\n",
      "          5       0.97      0.94      0.95       189\n",
      "          6       0.97      0.97      0.97       181\n",
      "          7       0.95      0.98      0.97       173\n",
      "          8       0.84      0.94      0.89       157\n",
      "          9       0.96      0.92      0.94       189\n",
      "\n",
      "avg / total       0.95      0.95      0.95      1797\n",
      "\n",
      "Done: 23.628567872801796 seconds\n"
     ]
    }
   ],
   "source": [
    "## RP + KMEANS\n",
    "ann = MLPClassifier(\n",
    "    activation='relu', max_iter=5000,\n",
    "    solver='adam', learning_rate='adaptive', \n",
    "    hidden_layer_sizes=(500, 500), alpha= 0.01\n",
    ")\n",
    "start_time = timeit.default_timer()\n",
    "ann.fit(digits_X_RP_km, digits_y)\n",
    "predict = ann.predict(digits_X_test_RP_km)\n",
    "print(classification_report(predict, digits_y_test))\n",
    "end_time = timeit.default_timer()\n",
    "elapsed = end_time - start_time\n",
    "print(\"Done: {} seconds\".format(elapsed))"
   ]
  },
  {
   "cell_type": "code",
   "execution_count": 27,
   "metadata": {},
   "outputs": [
    {
     "name": "stdout",
     "output_type": "stream",
     "text": [
      "             precision    recall  f1-score   support\n",
      "\n",
      "          0       0.99      0.99      0.99       178\n",
      "          1       0.98      0.94      0.96       190\n",
      "          2       0.97      0.98      0.98       175\n",
      "          3       0.90      0.97      0.93       170\n",
      "          4       0.97      0.96      0.96       184\n",
      "          5       0.98      0.94      0.96       191\n",
      "          6       0.98      0.97      0.98       182\n",
      "          7       0.94      0.97      0.96       174\n",
      "          8       0.91      0.89      0.90       177\n",
      "          9       0.94      0.96      0.95       176\n",
      "\n",
      "avg / total       0.96      0.96      0.96      1797\n",
      "\n",
      "Done: 26.238323063822463 seconds\n"
     ]
    }
   ],
   "source": [
    "## RP + GMM\n",
    "ann = MLPClassifier(\n",
    "    activation='relu', max_iter=5000,\n",
    "    solver='adam', learning_rate='adaptive', \n",
    "    hidden_layer_sizes=(500, 500), alpha= 0.01\n",
    ")\n",
    "start_time = timeit.default_timer()\n",
    "ann.fit(digits_X_RP_gmm, digits_y)\n",
    "predict = ann.predict(digits_X_test_RP_gmm)\n",
    "print(classification_report(predict, digits_y_test))\n",
    "end_time = timeit.default_timer()\n",
    "elapsed = end_time - start_time\n",
    "print(\"Done: {} seconds\".format(elapsed))"
   ]
  },
  {
   "cell_type": "markdown",
   "metadata": {},
   "source": [
    "## Random Forest"
   ]
  },
  {
   "cell_type": "code",
   "execution_count": 28,
   "metadata": {},
   "outputs": [],
   "source": [
    "rfc = RandomForestClassifier(\n",
    "        n_estimators=100, class_weight='balanced', random_state=0)\n",
    "fi = rfc.fit(digits_X, digits_y).feature_importances_\n",
    "i = [i + 1 for i in range(len(fi))]\n",
    "fi = pd.DataFrame({'importance': fi, 'feature': i})\n",
    "fi.sort_values('importance', ascending=False, inplace=True)\n",
    "fi['i'] = i\n",
    "cumfi = fi['importance'].cumsum()\n",
    "\n",
    "idxs = fi.loc[:cumfi.where(cumfi > 0.8).idxmin(), :]\n",
    "idxs = list(idxs.index)\n",
    "\n",
    "digits_X_RF = digits_X[:, idxs]\n",
    "digits_X_test_RF = digits_X_test[:, idxs]"
   ]
  },
  {
   "cell_type": "code",
   "execution_count": 29,
   "metadata": {},
   "outputs": [
    {
     "name": "stdout",
     "output_type": "stream",
     "text": [
      "             precision    recall  f1-score   support\n",
      "\n",
      "          0       0.99      0.99      0.99       178\n",
      "          1       0.98      0.96      0.97       185\n",
      "          2       0.95      0.99      0.97       170\n",
      "          3       0.97      0.97      0.97       184\n",
      "          4       0.98      0.97      0.98       183\n",
      "          5       0.98      0.93      0.95       191\n",
      "          6       0.98      0.99      0.98       179\n",
      "          7       0.91      0.99      0.95       164\n",
      "          8       0.95      0.93      0.94       178\n",
      "          9       0.97      0.95      0.96       185\n",
      "\n",
      "avg / total       0.97      0.97      0.97      1797\n",
      "\n",
      "Done: 21.53308790596202 seconds\n"
     ]
    }
   ],
   "source": [
    "ann = MLPClassifier(\n",
    "    activation='relu', max_iter=5000,\n",
    "    solver='adam', learning_rate='adaptive', \n",
    "    hidden_layer_sizes=(500, 500), alpha= 0.01\n",
    ")\n",
    "start_time = timeit.default_timer()\n",
    "ann.fit(digits_X_RF,digits_y)\n",
    "predict = ann.predict(digits_X_test_RF)\n",
    "print(classification_report(predict, digits_y_test))\n",
    "end_time = timeit.default_timer()\n",
    "elapsed = end_time - start_time\n",
    "print(\"Done: {} seconds\".format(elapsed))"
   ]
  },
  {
   "cell_type": "code",
   "execution_count": 30,
   "metadata": {},
   "outputs": [],
   "source": [
    "km = KMeans(random_state=0)  # K-Means\n",
    "gmm = GMM(random_state=0)  # Gaussian Mixture Model (EM)\n",
    "km.set_params(n_clusters=11)\n",
    "gmm.set_params(n_components=9)\n",
    "km.fit(digits_X_RF)\n",
    "gmm.fit(digits_X_RF)\n",
    "\n",
    "digits_X_RF_km = np.concatenate(\n",
    "    (digits_X_RF, get_one_hot(km.predict(digits_X_RF), 11)),\n",
    "    axis=1\n",
    ")\n",
    "digits_X_RF_gmm = np.concatenate(\n",
    "    (digits_X_RF, get_one_hot(gmm.predict(digits_X_RF), 9)),\n",
    "    axis=1\n",
    ")\n",
    "\n",
    "digits_X_test_RF_km = np.concatenate(\n",
    "    (digits_X_test_RF, get_one_hot(km.predict(digits_X_test_RF), 11)),\n",
    "    axis=1\n",
    ")\n",
    "digits_X_test_RF_gmm = np.concatenate(\n",
    "    (digits_X_test_RF, get_one_hot(gmm.predict(digits_X_test_RF), 9)),\n",
    "    axis=1\n",
    ")"
   ]
  },
  {
   "cell_type": "code",
   "execution_count": 31,
   "metadata": {},
   "outputs": [
    {
     "name": "stdout",
     "output_type": "stream",
     "text": [
      "             precision    recall  f1-score   support\n",
      "\n",
      "          0       0.99      1.00      1.00       177\n",
      "          1       0.99      0.96      0.98       188\n",
      "          2       0.96      0.99      0.98       171\n",
      "          3       0.96      0.99      0.97       177\n",
      "          4       0.99      0.97      0.98       184\n",
      "          5       0.98      0.94      0.96       190\n",
      "          6       0.98      1.00      0.99       178\n",
      "          7       0.92      0.99      0.95       166\n",
      "          8       0.96      0.92      0.94       182\n",
      "          9       0.96      0.93      0.95       184\n",
      "\n",
      "avg / total       0.97      0.97      0.97      1797\n",
      "\n",
      "Done: 24.1700576399453 seconds\n"
     ]
    }
   ],
   "source": [
    "## RP + KMEANS\n",
    "ann = MLPClassifier(\n",
    "    activation='relu', max_iter=5000,\n",
    "    solver='adam', learning_rate='adaptive', \n",
    "    hidden_layer_sizes=(500, 500), alpha= 0.01\n",
    ")\n",
    "start_time = timeit.default_timer()\n",
    "ann.fit(digits_X_RF_km, digits_y)\n",
    "predict = ann.predict(digits_X_test_RF_km)\n",
    "print(classification_report(predict, digits_y_test))\n",
    "end_time = timeit.default_timer()\n",
    "elapsed = end_time - start_time\n",
    "print(\"Done: {} seconds\".format(elapsed))"
   ]
  },
  {
   "cell_type": "code",
   "execution_count": 32,
   "metadata": {},
   "outputs": [
    {
     "name": "stdout",
     "output_type": "stream",
     "text": [
      "             precision    recall  f1-score   support\n",
      "\n",
      "          0       0.99      0.99      0.99       178\n",
      "          1       0.99      0.95      0.97       189\n",
      "          2       0.97      0.99      0.98       173\n",
      "          3       0.95      0.99      0.97       176\n",
      "          4       0.99      0.98      0.99       183\n",
      "          5       0.98      0.94      0.96       190\n",
      "          6       0.98      0.99      0.99       178\n",
      "          7       0.92      0.98      0.95       168\n",
      "          8       0.93      0.92      0.92       175\n",
      "          9       0.97      0.93      0.95       187\n",
      "\n",
      "avg / total       0.97      0.97      0.97      1797\n",
      "\n",
      "Done: 21.191694607026875 seconds\n"
     ]
    }
   ],
   "source": [
    "## RF + GMM\n",
    "ann = MLPClassifier(\n",
    "    activation='relu', max_iter=5000,\n",
    "    solver='adam', learning_rate='adaptive', \n",
    "    hidden_layer_sizes=(500, 500), alpha= 0.01\n",
    ")\n",
    "start_time = timeit.default_timer()\n",
    "ann.fit(digits_X_RF_gmm, digits_y)\n",
    "predict = ann.predict(digits_X_test_RF_gmm)\n",
    "print(classification_report(predict, digits_y_test))\n",
    "end_time = timeit.default_timer()\n",
    "elapsed = end_time - start_time\n",
    "print(\"Done: {} seconds\".format(elapsed))"
   ]
  },
  {
   "cell_type": "code",
   "execution_count": null,
   "metadata": {},
   "outputs": [],
   "source": []
  }
 ],
 "metadata": {
  "kernelspec": {
   "display_name": "Python 3",
   "language": "python",
   "name": "python3"
  },
  "language_info": {
   "codemirror_mode": {
    "name": "ipython",
    "version": 3
   },
   "file_extension": ".py",
   "mimetype": "text/x-python",
   "name": "python",
   "nbconvert_exporter": "python",
   "pygments_lexer": "ipython3",
   "version": "3.6.5"
  }
 },
 "nbformat": 4,
 "nbformat_minor": 2
}
